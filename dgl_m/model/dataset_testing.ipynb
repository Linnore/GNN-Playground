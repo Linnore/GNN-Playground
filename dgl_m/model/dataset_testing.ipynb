{
 "cells": [
  {
   "cell_type": "code",
   "execution_count": 113,
   "metadata": {},
   "outputs": [
    {
     "name": "stdout",
     "output_type": "stream",
     "text": [
      "  NumNodes: 3327\n",
      "  NumEdges: 9228\n",
      "  NumFeats: 3703\n",
      "  NumClasses: 6\n",
      "  NumTrainingSamples: 120\n",
      "  NumValidationSamples: 500\n",
      "  NumTestSamples: 1000\n",
      "Done loading data from cached files.\n"
     ]
    }
   ],
   "source": [
    "import torch\n",
    "import dgl.transforms as T\n",
    "from dgl.dataloading import NeighborSampler, DataLoader, GraphDataLoader\n",
    "\n",
    "from loguru import logger\n",
    "\n",
    "transform = T.Compose([T.RowFeatNormalizer()])\n",
    "\n",
    "from dgl.data import PPIDataset\n",
    "dataset = (PPIDataset(mode='train', raw_dir='dataset', transform=transform), PPIDataset(mode='valid', raw_dir='dataset', transform=transform), PPIDataset(mode='test', raw_dir='dataset', transform=transform))\n",
    "\n",
    "\n",
    "from dgl.data import CiteseerGraphDataset\n",
    "dataset2 = CiteseerGraphDataset('dataset', transform=transform)\n",
    "\n",
    "# from torch_geometric.data import Data, Batch\n",
    "# from torch_geometric.loader import NeighborLoader\n",
    "\n",
    "# def merge_from_data_list(data_list):\n",
    "#     batch_data = Batch.from_data_list(data_list)\n",
    "#     data =  Data(\n",
    "#         x=batch_data.x,\n",
    "#         edge_index=batch_data.edge_index,\n",
    "#         y=batch_data.y\n",
    "#     )\n",
    "#     # TODO: also support edge features and edge lable.\n",
    "    \n",
    "#     return data\n",
    "\n",
    "# from torch_geometric.datasets import PPI\n",
    "# dataset3 = [\n",
    "#     merge_from_data_list(PPI('dataset/PPI', split='train')),\n",
    "#     merge_from_data_list(PPI('dataset/PPI', split='val')),\n",
    "#     merge_from_data_list(PPI('dataset/PPI', split='test')),\n",
    "# ]\n",
    "\n",
    "# from torch_geometric.datasets import Planetoid\n",
    "# dataset4 = Planetoid('dataset', 'CiteSeer', split='public', transform=transform)"
   ]
  },
  {
   "cell_type": "code",
   "execution_count": 114,
   "metadata": {},
   "outputs": [],
   "source": [
    "train_data = dataset[0]\n",
    "val_data = dataset[1]\n",
    "test_data = dataset[2]\n",
    "\n",
    "# for graph in train_data:\n",
    "#     graph.ndata['train_mask'] = torch.ones(graph.num_nodes(), dtype=bool)\n",
    "# for graph in val_data:\n",
    "#     graph.ndata['val_mask'] = torch.ones(graph.num_nodes(), dtype=bool)\n",
    "# for graph in test_data:\n",
    "#     graph.ndata['test_mask'] = torch.ones(graph.num_nodes(), dtype=bool)"
   ]
  },
  {
   "cell_type": "code",
   "execution_count": 120,
   "metadata": {},
   "outputs": [
    {
     "data": {
      "text/plain": [
       "dgl.data.ppi.PPIDataset"
      ]
     },
     "execution_count": 120,
     "metadata": {},
     "output_type": "execute_result"
    }
   ],
   "source": [
    "type(train_data)"
   ]
  },
  {
   "cell_type": "code",
   "execution_count": 115,
   "metadata": {},
   "outputs": [],
   "source": [
    "batch_size = 2\n",
    "\n",
    "train_loader = GraphDataLoader(\n",
    "    train_data, \n",
    "    batch_size=batch_size,\n",
    "    num_workers=2,\n",
    "    persistent_workers=True,\n",
    "    )\n",
    "val_loader = GraphDataLoader(\n",
    "    val_data, \n",
    "    batch_size=batch_size,\n",
    "    num_workers=2,\n",
    "    persistent_workers=True,\n",
    "    )\n",
    "test_loader = GraphDataLoader(\n",
    "    test_data, \n",
    "    batch_size=batch_size,\n",
    "    num_workers=2,\n",
    "    persistent_workers=True,\n",
    "    )"
   ]
  },
  {
   "cell_type": "code",
   "execution_count": 116,
   "metadata": {},
   "outputs": [],
   "source": [
    "data = dataset2[0]"
   ]
  },
  {
   "cell_type": "code",
   "execution_count": 117,
   "metadata": {},
   "outputs": [],
   "source": [
    "neighborsampler = NeighborSampler([-1, -1])\n",
    "\n",
    "train_loader_2 = DataLoader(\n",
    "    graph=data,\n",
    "    indices=data.nodes()[data.ndata['train_mask']],\n",
    "    graph_sampler=neighborsampler,\n",
    "    batch_size=512,\n",
    "    num_workers=2,\n",
    "    persistent_workers=True,\n",
    ")\n",
    "\n",
    "val_loader_2 = DataLoader(\n",
    "    graph=data,\n",
    "    indices=data.nodes()[data.ndata['val_mask']],\n",
    "    graph_sampler=neighborsampler,\n",
    "    batch_size=512,\n",
    "    num_workers=2,\n",
    "    persistent_workers=True,\n",
    ")\n",
    "\n",
    "test_loader_2 = DataLoader(\n",
    "    graph=data,\n",
    "    indices=data.nodes()[data.ndata['test_mask']],\n",
    "    graph_sampler=neighborsampler,\n",
    "    batch_size=512,\n",
    "    num_workers=2,\n",
    "    persistent_workers=True,\n",
    ")"
   ]
  },
  {
   "cell_type": "code",
   "execution_count": 121,
   "metadata": {},
   "outputs": [
    {
     "data": {
      "text/plain": [
       "dgl.heterograph.DGLGraph"
      ]
     },
     "execution_count": 121,
     "metadata": {},
     "output_type": "execute_result"
    }
   ],
   "source": [
    "type(data)"
   ]
  },
  {
   "cell_type": "code",
   "execution_count": null,
   "metadata": {},
   "outputs": [],
   "source": []
  }
 ],
 "metadata": {
  "kernelspec": {
   "display_name": "pytorch3.10",
   "language": "python",
   "name": "python3"
  },
  "language_info": {
   "codemirror_mode": {
    "name": "ipython",
    "version": 3
   },
   "file_extension": ".py",
   "mimetype": "text/x-python",
   "name": "python",
   "nbconvert_exporter": "python",
   "pygments_lexer": "ipython3",
   "version": "3.10.14"
  }
 },
 "nbformat": 4,
 "nbformat_minor": 2
}
